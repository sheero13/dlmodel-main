{
 "cells": [
  {
   "cell_type": "code",
   "execution_count": null,
   "metadata": {
    "vscode": {
     "languageId": "plaintext"
    }
   },
   "outputs": [],
   "source": [
    "import numpy as np\n",
    "import matplotlib.pyplot as plt\n",
    "import tensorflow as tf\n",
    "from tensorflow.keras.applications import VGG16\n",
    "from tensorflow.keras.preprocessing import image\n",
    "from tensorflow.keras.models import Model\n",
    "\n",
    "# Load VGG16 model pre-trained on ImageNet without the top layer\n",
    "base_model = VGG16(weights='imagenet', include_top=False)\n",
    "\n",
    "# Function to preprocess an image\n",
    "def preprocess_image(img_path):\n",
    "    img = image.load_img(img_path, target_size=(224, 224))\n",
    "    img_array = image.img_to_array(img)\n",
    "    img_array = np.expand_dims(img_array, axis=0)\n",
    "    img_array /= 255.0  # Scale to [0, 1]\n",
    "    return img_array\n",
    "\n",
    "# Function to extract features\n",
    "def extract_features(img_path):\n",
    "    img_array = preprocess_image(img_path)\n",
    "    features = base_model.predict(img_array)\n",
    "    return features\n",
    "\n",
    "# Load and preprocess an image\n",
    "img_path = 'horse.jpg'  # Replace with your image path\n",
    "features = extract_features(img_path)\n",
    "\n",
    "# Print the shape of the feature map\n",
    "print(\"Feature map shape:\", features.shape)\n",
    "\n",
    "# Visualize the feature map\n",
    "num_feature_maps = features.shape[-1]\n",
    "plt.figure(figsize=(12, 12))\n",
    "for i in range(min(6, num_feature_maps)):  # Display first 6 feature maps\n",
    "    plt.subplot(2, 3, i + 1)\n",
    "    plt.imshow(features[0, :, :, i], cmap='viridis')\n",
    "    plt.axis('off')\n",
    "plt.suptitle('Feature Maps from VGG16')\n",
    "plt.show()\n"
   ]
  }
 ],
 "metadata": {
  "language_info": {
   "name": "python"
  }
 },
 "nbformat": 4,
 "nbformat_minor": 2
}
